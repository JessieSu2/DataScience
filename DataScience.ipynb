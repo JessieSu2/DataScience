{
 "cells": [
  {
   "cell_type": "code",
   "execution_count": 30,
   "metadata": {},
   "outputs": [
    {
     "name": "stdout",
     "output_type": "stream",
     "text": [
      "   summons_number plate_id registration_state plate_type  \\\n",
      "0      1484697303  JER1863                 NY        PAS   \n",
      "\n",
      "                issue_date  violation_code vehicle_body_type vehicle_make  \\\n",
      "0  2022-06-10T00:00:00.000              67               SDN        TOYOT   \n",
      "\n",
      "  issuing_agency  street_code1  ...  vehicle_color  unregistered_vehicle  \\\n",
      "0              P         34330  ...            BLK                     0   \n",
      "\n",
      "   vehicle_year  meter_number  feet_from_curb  violation_post_code  \\\n",
      "0          2004             -               0                  NaN   \n",
      "\n",
      "   violation_description no_standing_or_stopping_violation  hydrant_violation  \\\n",
      "0                    NaN                               NaN                NaN   \n",
      "\n",
      "  double_parking_violation  \n",
      "0                      NaN  \n",
      "\n",
      "[1 rows x 43 columns]\n"
     ]
    },
    {
     "data": {
      "text/plain": [
       "summons_number                          0\n",
       "plate_id                                0\n",
       "registration_state                      0\n",
       "plate_type                              0\n",
       "issue_date                              0\n",
       "violation_code                          0\n",
       "vehicle_body_type                      55\n",
       "vehicle_make                           31\n",
       "issuing_agency                          0\n",
       "street_code1                            0\n",
       "street_code2                            0\n",
       "street_code3                            0\n",
       "vehicle_expiration_date                 0\n",
       "violation_location                     12\n",
       "violation_precinct                      0\n",
       "issuer_precinct                         0\n",
       "issuer_code                             0\n",
       "issuer_command                          0\n",
       "issuer_squad                            0\n",
       "violation_time                          0\n",
       "time_first_observed                   907\n",
       "violation_county                      114\n",
       "violation_in_front_of_or_opposite     156\n",
       "house_number                          216\n",
       "street_name                             4\n",
       "intersecting_street                   766\n",
       "date_first_observed                     0\n",
       "law_section                             0\n",
       "sub_division                            0\n",
       "violation_legal_code                 1000\n",
       "days_parking_in_effect                  0\n",
       "from_hours_in_effect                    0\n",
       "to_hours_in_effect                      0\n",
       "vehicle_color                          82\n",
       "unregistered_vehicle                    0\n",
       "vehicle_year                            0\n",
       "meter_number                            0\n",
       "feet_from_curb                          0\n",
       "violation_post_code                  1000\n",
       "violation_description                1000\n",
       "no_standing_or_stopping_violation    1000\n",
       "hydrant_violation                    1000\n",
       "double_parking_violation             1000\n",
       "dtype: int64"
      ]
     },
     "execution_count": 30,
     "metadata": {},
     "output_type": "execute_result"
    }
   ],
   "source": [
    "from urllib.request import urlretrieve\n",
    "import matplotlib.pyplot as plt\n",
    "import pandas as pd\n",
    "\n",
    "url = 'https://data.cityofnewyork.us/resource/pvqr-7yc4.csv'\n",
    "urlretrieve(url, 'pvqr-7yc4.csv')\n",
    "\n",
    "df = pd.read_csv('pvqr-7yc4.csv')\n",
    "\n",
    "print(df.head(1))\n",
    "df.isnull().sum()"
   ]
  },
  {
   "cell_type": "code",
   "execution_count": 27,
   "metadata": {},
   "outputs": [
    {
     "data": {
      "text/plain": [
       "summons_number                         int64\n",
       "plate_id                              object\n",
       "registration_state                    object\n",
       "plate_type                            object\n",
       "issue_date                            object\n",
       "violation_code                         int64\n",
       "vehicle_body_type                     object\n",
       "vehicle_make                          object\n",
       "issuing_agency                        object\n",
       "street_code1                           int64\n",
       "street_code2                           int64\n",
       "street_code3                           int64\n",
       "vehicle_expiration_date              float64\n",
       "violation_location                   float64\n",
       "violation_precinct                     int64\n",
       "issuer_precinct                        int64\n",
       "issuer_code                            int64\n",
       "issuer_command                        object\n",
       "issuer_squad                           int64\n",
       "violation_time                        object\n",
       "time_first_observed                   object\n",
       "violation_county                      object\n",
       "violation_in_front_of_or_opposite     object\n",
       "house_number                          object\n",
       "street_name                           object\n",
       "intersecting_street                   object\n",
       "date_first_observed                    int64\n",
       "law_section                            int64\n",
       "sub_division                          object\n",
       "violation_legal_code                 float64\n",
       "days_parking_in_effect                object\n",
       "from_hours_in_effect                  object\n",
       "to_hours_in_effect                    object\n",
       "vehicle_color                         object\n",
       "unregistered_vehicle                   int64\n",
       "vehicle_year                           int64\n",
       "meter_number                          object\n",
       "feet_from_curb                         int64\n",
       "violation_post_code                  float64\n",
       "violation_description                float64\n",
       "no_standing_or_stopping_violation    float64\n",
       "hydrant_violation                    float64\n",
       "double_parking_violation             float64\n",
       "dtype: object"
      ]
     },
     "execution_count": 27,
     "metadata": {},
     "output_type": "execute_result"
    }
   ],
   "source": [
    "df.dtypes"
   ]
  },
  {
   "cell_type": "code",
   "execution_count": 28,
   "metadata": {},
   "outputs": [],
   "source": [
    "vehicle_violation = df.groupby(df.vehicle_body_type).violation_code.sum()"
   ]
  },
  {
   "cell_type": "code",
   "execution_count": 25,
   "metadata": {
    "scrolled": true
   },
   "outputs": [
    {
     "data": {
      "image/png": "[encoded data removed]",
      "text/plain": [
       "<Figure size 432x288 with 1 Axes>"
      ]
     },
     "metadata": {
      "needs_background": "light"
     },
     "output_type": "display_data"
    }
   ],
   "source": [
    "vehicle_violation.sort_values().plot(kind='bar')\n",
    "\n",
    "plt.show()\n"
   ]
  },
  {
   "cell_type": "code",
   "execution_count": null,
   "metadata": {},
   "outputs": [],
   "source": []
  },
  {
   "cell_type": "code",
   "execution_count": null,
   "metadata": {},
   "outputs": [],
   "source": []
  }
 ],
 "metadata": {
  "kernelspec": {
   "display_name": "Python 3 (ipykernel)",
   "language": "python",
   "name": "python3"
  },
  "language_info": {
   "codemirror_mode": {
    "name": "ipython",
    "version": 3
   },
   "file_extension": ".py",
   "mimetype": "text/x-python",
   "name": "python",
   "nbconvert_exporter": "python",
   "pygments_lexer": "ipython3",
   "version": "3.9.7"
  }
 },
 "nbformat": 4,
 "nbformat_minor": 2
}
