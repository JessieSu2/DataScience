{
 "cells": [
  {
   "cell_type": "code",
   "execution_count": 126,
   "id": "5419f3c7",
   "metadata": {},
   "outputs": [],
   "source": [
    "import pandas as pd\n",
    "import numpy as np"
   ]
  },
  {
   "cell_type": "code",
   "execution_count": 127,
   "id": "72e3647c",
   "metadata": {},
   "outputs": [
    {
     "name": "stdout",
     "output_type": "stream",
     "text": [
      "(2679336, 10)\n",
      "<class 'pandas.core.frame.DataFrame'>\n",
      "RangeIndex: 2679336 entries, 0 to 2679335\n",
      "Data columns (total 10 columns):\n",
      " #   Column              Dtype \n",
      "---  ------              ----- \n",
      " 0   Registration State  object\n",
      " 1   Plate Type          object\n",
      " 2   Violation Code      int64 \n",
      " 3   Vehicle Body Type   object\n",
      " 4   Vehicle Make        object\n",
      " 5   Violation Precinct  int64 \n",
      " 6   Violation Time      object\n",
      " 7   Violation County    object\n",
      " 8   Violation Day       object\n",
      " 9   Violation Hour      int64 \n",
      "dtypes: int64(3), object(7)\n",
      "memory usage: 204.4+ MB\n",
      "None\n"
     ]
    }
   ],
   "source": [
    "df = pd.read_csv(\"filtered_data2.csv\")\n",
    "print(df.shape)\n",
    "print(df.info())"
   ]
  },
  {
   "cell_type": "code",
   "execution_count": null,
   "id": "fa213412",
   "metadata": {},
   "outputs": [],
   "source": []
  },
  {
   "cell_type": "code",
   "execution_count": 128,
   "id": "507fae11",
   "metadata": {},
   "outputs": [
    {
     "name": "stdout",
     "output_type": "stream",
     "text": [
      "7  14  20  21  36  38  40  71\n",
      "0  0   0   0   1   0   0   0     1334203\n",
      "           1   0   0   0   0      480868\n",
      "           0   0   1   0   0      208461\n",
      "                   0   0   1      140165\n",
      "1  0   0   0   0   0   0   0      138512\n",
      "0  0   0   0   0   0   1   0      134286\n",
      "   1   0   0   0   0   0   0      126790\n",
      "   0   1   0   0   0   0   0      116051\n",
      "dtype: int64\n"
     ]
    }
   ],
   "source": [
    "from sklearn.model_selection import train_test_split\n",
    "labels = df['Violation Code']\n",
    "# one-hot encoding on class feature\n",
    "labels = pd.get_dummies(labels, columns=['Violation Code'])\n",
    "print(label.value_counts())"
   ]
  },
  {
   "cell_type": "code",
   "execution_count": 129,
   "id": "e8b1ba90",
   "metadata": {},
   "outputs": [
    {
     "name": "stdout",
     "output_type": "stream",
     "text": [
      "<class 'pandas.core.frame.DataFrame'>\n",
      "RangeIndex: 2679336 entries, 0 to 2679335\n",
      "Data columns (total 9 columns):\n",
      " #   Column              Dtype \n",
      "---  ------              ----- \n",
      " 0   Registration State  object\n",
      " 1   Plate Type          object\n",
      " 2   Violation Code      int64 \n",
      " 3   Vehicle Body Type   object\n",
      " 4   Vehicle Make        object\n",
      " 5   Violation Precinct  int64 \n",
      " 6   Violation County    object\n",
      " 7   Violation Day       object\n",
      " 8   Violation Hour      int64 \n",
      "dtypes: int64(3), object(6)\n",
      "memory usage: 184.0+ MB\n",
      "None\n"
     ]
    }
   ],
   "source": [
    "# drop violation time\n",
    "df = df.drop(labels = 'Violation Time', axis = 1)\n",
    "print(df.info())"
   ]
  },
  {
   "cell_type": "code",
   "execution_count": 130,
   "id": "86afbb76",
   "metadata": {},
   "outputs": [
    {
     "name": "stdout",
     "output_type": "stream",
     "text": [
      "Index(['Registration State', 'Plate Type', 'Vehicle Body Type', 'Vehicle Make',\n",
      "       'Violation Precinct', 'Violation County', 'Violation Day',\n",
      "       'Violation Hour'],\n",
      "      dtype='object')\n",
      "<class 'pandas.core.frame.DataFrame'>\n",
      "RangeIndex: 2679336 entries, 0 to 2679335\n",
      "Data columns (total 8 columns):\n",
      " #   Column              Dtype \n",
      "---  ------              ----- \n",
      " 0   Registration State  object\n",
      " 1   Plate Type          object\n",
      " 2   Vehicle Body Type   object\n",
      " 3   Vehicle Make        object\n",
      " 4   Violation Precinct  int64 \n",
      " 5   Violation County    object\n",
      " 6   Violation Day       object\n",
      " 7   Violation Hour      int64 \n",
      "dtypes: int64(2), object(6)\n",
      "memory usage: 163.5+ MB\n",
      "None\n"
     ]
    }
   ],
   "source": [
    "# train data\n",
    "df = df.drop(labels = 'Violation Code', axis = 1)\n",
    "print(df.columns)\n",
    "print(df.info())"
   ]
  },
  {
   "cell_type": "code",
   "execution_count": 131,
   "id": "1a8ca009",
   "metadata": {},
   "outputs": [
    {
     "name": "stdout",
     "output_type": "stream",
     "text": [
      "<class 'pandas.core.frame.DataFrame'>\n",
      "RangeIndex: 2679336 entries, 0 to 2679335\n",
      "Columns: 213 entries, Plate Type_PAS to Vehicle Make_VOLKS\n",
      "dtypes: uint8(213)\n",
      "memory usage: 544.3 MB\n",
      "None\n"
     ]
    }
   ],
   "source": [
    "# one hot encoding\n",
    "train_col = {'Registration State', 'Plate Type', 'Vehicle Body Type', \n",
    "           'Vehicle Make', 'Violation Precinct', 'Violation County',\n",
    "            'Violation Day', 'Violation Hour'\n",
    "          }\n",
    "\n",
    "for col in train_col:\n",
    "    feature = df[col]\n",
    "    feature = pd.get_dummies(feature,prefix=col)\n",
    "    df = pd.concat([feature,df], axis=1)\n",
    "    del df[col]\n",
    "\n",
    "print(df.info())"
   ]
  },
  {
   "cell_type": "code",
   "execution_count": 132,
   "id": "8588510f",
   "metadata": {},
   "outputs": [
    {
     "name": "stdout",
     "output_type": "stream",
     "text": [
      "(2679336, 213)\n",
      "(2679336, 8)\n"
     ]
    }
   ],
   "source": [
    "print(df.shape)\n",
    "print(label.shape)"
   ]
  },
  {
   "cell_type": "code",
   "execution_count": 133,
   "id": "0de9e434",
   "metadata": {},
   "outputs": [],
   "source": [
    "# df for train split\n",
    "features = df\n",
    "features_train, features_test, labels_train, labels_test = train_test_split(features, labels, test_size = 0.20)"
   ]
  },
  {
   "cell_type": "code",
   "execution_count": 134,
   "id": "413e2230",
   "metadata": {},
   "outputs": [],
   "source": [
    "from sklearn.decomposition import PCA\n",
    "from sklearn.decomposition import SparsePCA\n",
    "from sklearn.metrics import accuracy_score\n",
    "from sklearn.tree import DecisionTreeClassifier\n",
    "from sklearn.model_selection import train_test_split"
   ]
  },
  {
   "cell_type": "code",
   "execution_count": 135,
   "id": "b791e282",
   "metadata": {},
   "outputs": [
    {
     "name": "stdout",
     "output_type": "stream",
     "text": [
      "built model\n",
      "pred on test\n"
     ]
    }
   ],
   "source": [
    "classifier = DecisionTreeClassifier()\n",
    "classifier.fit(features_train,labels_train)\n",
    "print('built model')\n",
    "y_pred = classifier.predict(features_test)\n",
    "print('pred on test')"
   ]
  },
  {
   "cell_type": "code",
   "execution_count": 136,
   "id": "9dd6f88e",
   "metadata": {},
   "outputs": [],
   "source": [
    "score =  accuracy_score(labels_test, y_pred)"
   ]
  },
  {
   "cell_type": "code",
   "execution_count": 137,
   "id": "336ab1d0",
   "metadata": {},
   "outputs": [
    {
     "name": "stdout",
     "output_type": "stream",
     "text": [
      "0.6828771264565154\n"
     ]
    }
   ],
   "source": [
    "print(score)"
   ]
  },
  {
   "cell_type": "code",
   "execution_count": null,
   "id": "e64848e6",
   "metadata": {},
   "outputs": [],
   "source": []
  }
 ],
 "metadata": {
  "kernelspec": {
   "display_name": "Python 3 (ipykernel)",
   "language": "python",
   "name": "python3"
  },
  "language_info": {
   "codemirror_mode": {
    "name": "ipython",
    "version": 3
   },
   "file_extension": ".py",
   "mimetype": "text/x-python",
   "name": "python",
   "nbconvert_exporter": "python",
   "pygments_lexer": "ipython3",
   "version": "3.9.7"
  }
 },
 "nbformat": 4,
 "nbformat_minor": 5
}
