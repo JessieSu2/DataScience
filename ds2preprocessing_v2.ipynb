{
 "cells": [
  {
   "cell_type": "code",
   "execution_count": 870,
   "id": "54c58448",
   "metadata": {},
   "outputs": [
    {
     "name": "stdout",
     "output_type": "stream",
     "text": [
      "/Users/solomonzhang/Downloads\n"
     ]
    }
   ],
   "source": [
    "import pandas as pd\n",
    "import numpy as np\n",
    "import random\n",
    "import os\n",
    "print(os.getcwd())\n"
   ]
  },
  {
   "cell_type": "code",
   "execution_count": 871,
   "id": "6f4fb454",
   "metadata": {},
   "outputs": [
    {
     "name": "stdout",
     "output_type": "stream",
     "text": [
      "(6129757, 9)\n",
      "<class 'pandas.core.frame.DataFrame'>\n",
      "RangeIndex: 6129757 entries, 0 to 6129756\n",
      "Data columns (total 9 columns):\n",
      " #   Column              Dtype \n",
      "---  ------              ----- \n",
      " 0   Registration State  object\n",
      " 1   Plate Type          object\n",
      " 2   Violation Code      int64 \n",
      " 3   Vehicle Body Type   object\n",
      " 4   Vehicle Make        object\n",
      " 5   Violation Precinct  int64 \n",
      " 6   Violation Time      object\n",
      " 7   Violation County    object\n",
      " 8   Vehicle Color       object\n",
      "dtypes: int64(2), object(7)\n",
      "memory usage: 420.9+ MB\n",
      "None\n",
      "  Registration State Plate Type  Violation Code Vehicle Body Type  \\\n",
      "0                 NY        PAS              67               SDN   \n",
      "1                 NY        PAS              51              SUBN   \n",
      "2                 NJ        PAS              63               SDN   \n",
      "3                 NY        PAS              63              SUBN   \n",
      "4                 NJ        PAS              63               SDN   \n",
      "\n",
      "  Vehicle Make  Violation Precinct Violation Time Violation County  \\\n",
      "0        TOYOT                  10          1037A               NY   \n",
      "1         JEEP                  10          1045A               NY   \n",
      "2         JEEP                   1          1116A               NY   \n",
      "3        LEXUS                   1          1052A               NY   \n",
      "4        HYUND                   1          1107A               NY   \n",
      "\n",
      "  Vehicle Color  \n",
      "0           BLK  \n",
      "1          GRAY  \n",
      "2          GRAY  \n",
      "3           NaN  \n",
      "4          BLUE  \n"
     ]
    }
   ],
   "source": [
    "df = pd.read_csv(\"filtered_data.csv\")\n",
    "print(df.shape)\n",
    "print(df.info())\n",
    "print(df.head())\n",
    "#(6129757, 9)"
   ]
  },
  {
   "cell_type": "code",
   "execution_count": 872,
   "id": "eb9135ce",
   "metadata": {},
   "outputs": [
    {
     "data": {
      "text/plain": [
       "'\\nWe will be building a model to see if we could predict violation \\ncode based on vehicle descriptions and location.\\nHence, this brings the awareness where people could try to be more careful if they match description\\n'"
      ]
     },
     "execution_count": 872,
     "metadata": {},
     "output_type": "execute_result"
    }
   ],
   "source": [
    "# question we are answering\n",
    "\"\"\"\n",
    "We will be building a model to see if we could predict violation \n",
    "code based on vehicle descriptions and location.\n",
    "Hence, this brings the awareness where people could try to be more careful if they match description\n",
    "\"\"\""
   ]
  },
  {
   "cell_type": "code",
   "execution_count": null,
   "id": "e8e3c57b",
   "metadata": {},
   "outputs": [],
   "source": []
  },
  {
   "cell_type": "code",
   "execution_count": 873,
   "id": "3b7bfc41",
   "metadata": {},
   "outputs": [
    {
     "name": "stdout",
     "output_type": "stream",
     "text": [
      "Registration State         0\n",
      "Plate Type                 0\n",
      "Violation Code             0\n",
      "Vehicle Body Type      15645\n",
      "Vehicle Make            5485\n",
      "Violation Precinct         0\n",
      "Violation Time            66\n",
      "Violation County       16403\n",
      "Vehicle Color         542695\n",
      "dtype: int64\n"
     ]
    }
   ],
   "source": [
    "# observe data\n",
    "print(df.isnull().sum())\n",
    "# there are only null values in the following columns\n",
    "# Vehicle Body Type\n",
    "# Vehicle Make\n",
    "# Violation Time\n",
    "# Violation County\n",
    "# Vehicle Color\n",
    "\n",
    "# number of violation in hours\n",
    "\n"
   ]
  },
  {
   "cell_type": "code",
   "execution_count": 874,
   "id": "da0c32b2",
   "metadata": {},
   "outputs": [
    {
     "name": "stdout",
     "output_type": "stream",
     "text": [
      "<class 'pandas.core.frame.DataFrame'>\n",
      "RangeIndex: 6129757 entries, 0 to 6129756\n",
      "Data columns (total 8 columns):\n",
      " #   Column              Dtype \n",
      "---  ------              ----- \n",
      " 0   Registration State  object\n",
      " 1   Plate Type          object\n",
      " 2   Violation Code      int64 \n",
      " 3   Vehicle Body Type   object\n",
      " 4   Vehicle Make        object\n",
      " 5   Violation Precinct  int64 \n",
      " 6   Violation Time      object\n",
      " 7   Violation County    object\n",
      "dtypes: int64(2), object(6)\n",
      "memory usage: 374.1+ MB\n",
      "None\n",
      "(6129757, 8)\n"
     ]
    }
   ],
   "source": [
    "#dropping color might because not general enough\n",
    "df = df.drop(labels = 'Vehicle Color', axis = 1)\n",
    "print(df.info())\n",
    "print(df.shape)"
   ]
  },
  {
   "cell_type": "code",
   "execution_count": 875,
   "id": "f2aa3821",
   "metadata": {},
   "outputs": [
    {
     "name": "stdout",
     "output_type": "stream",
     "text": [
      "Registration State    0\n",
      "Plate Type            0\n",
      "Violation Code        0\n",
      "Vehicle Body Type     0\n",
      "Vehicle Make          0\n",
      "Violation Precinct    0\n",
      "Violation Time        0\n",
      "Violation County      0\n",
      "dtype: int64\n"
     ]
    }
   ],
   "source": [
    "# violation code -> clean this first \n",
    "#     find lower threshold and remove violation tickets that dont lower threshold\n",
    "# time -> format HHMM(A/P) -> use this to categorize time\n",
    "# Vehicle Maker \n",
    "# Registration State\n",
    "# Plate Type\n",
    "# Vehicle Body Type\n",
    "# Vehicle Color\n",
    "#     find lower threshold by count and remove violation tickets that dont lower threshold\n",
    "#     do by count \n",
    "\n",
    "# reason why we decide threshold by count\n",
    "# the more people that has this description, the more relevant it is\n",
    "# the less people that has this description, the less relevant it is \n",
    "# in terms of reflecting general population\n",
    "\n",
    "# Hence\n",
    "# reasoning to remove lower threshold\n",
    "# this is because these descriptions do not reflect the overall population as the descriptions are not common\n",
    "# lower threshold does not reflect \n",
    "\n",
    "# reason to keep upper threshold\n",
    "# the more people that follows these descriptions, the more it reflects the general population\n",
    "# hence, if we to remove upper threshold, it will essentially remove a huge chunk of our data that reflects general\n",
    "# population\n",
    "\n",
    "# for example\n",
    "# if a violation code 'X' has only 1 violation \n",
    "# then it does not make sense to include 'X' since it does not reflect overall population\n",
    "# and if a violation code 'Y' has 1000000\n",
    "# then it does make sense to include Y\n",
    "\n",
    "# in comparison to the total number of data\n",
    "# a small portion of data has None values\n",
    "# also in this context, we cannot use stuff we dont know as filling the none values will introduce inaccurate values\n",
    "# so we could first drop Null values as it would not have a significant impact on the data\n",
    "\n",
    "# dropping null value\n",
    "df = df.dropna()\n",
    "print(df.isnull().sum())\n",
    "\n"
   ]
  },
  {
   "cell_type": "code",
   "execution_count": 876,
   "id": "06902cd4",
   "metadata": {},
   "outputs": [
    {
     "name": "stdout",
     "output_type": "stream",
     "text": [
      "(6096259, 8)\n"
     ]
    }
   ],
   "source": [
    "# approximately 500000 rows are removed mostly from color\n",
    "print(df.shape)"
   ]
  },
  {
   "cell_type": "code",
   "execution_count": null,
   "id": "3a65c555",
   "metadata": {},
   "outputs": [],
   "source": []
  },
  {
   "cell_type": "code",
   "execution_count": 877,
   "id": "5659e41a",
   "metadata": {},
   "outputs": [],
   "source": [
    "# drop color column\n"
   ]
  },
  {
   "cell_type": "code",
   "execution_count": 878,
   "id": "da85928c",
   "metadata": {},
   "outputs": [
    {
     "name": "stdout",
     "output_type": "stream",
     "text": [
      "['NY' 'NJ' 'PA' 'FL' 'OH' 'MA' 'NC' 'UT' '99' 'GA' 'TN' 'CA' 'VT' 'CT'\n",
      " 'MS' 'RI' 'TX' 'MN' 'AL' 'WA' 'ME' 'AR' 'IA' 'GV' 'OK' 'MI' 'DC' 'VA'\n",
      " 'ID' 'SC' 'AK' 'ON' 'MO' 'AZ' 'MD' 'LA' 'WV' 'IN' 'NH' 'DE' 'OR' 'ND'\n",
      " 'NV' 'QB' 'BC' 'NM' 'HI' 'CO' 'IL' 'WI' 'MT' 'MB' 'KY' 'PR' 'NS' 'KS'\n",
      " 'SD' 'NB' 'WY' 'NE' 'DP' 'AB' 'PE' 'SK' 'FO']\n",
      "['NY' 'NJ' 'PA' 'FL' 'OH' 'MA' 'NC' 'UT' 'GA' 'TN' 'CA' 'VT' 'CT' 'MS'\n",
      " 'RI' 'TX' 'MN' 'AL' 'WA' 'ME' 'AR' 'IA' 'GV' 'OK' 'MI' 'DC' 'VA' 'ID'\n",
      " 'SC' 'AK' 'ON' 'MO' 'AZ' 'MD' 'LA' 'WV' 'IN' 'NH' 'DE' 'OR' 'ND' 'NV'\n",
      " 'QB' 'BC' 'NM' 'HI' 'CO' 'IL' 'WI' 'MT' 'MB' 'KY' 'PR' 'NS' 'KS' 'SD'\n",
      " 'NB' 'WY' 'NE' 'DP' 'AB' 'PE' 'SK' 'FO']\n"
     ]
    }
   ],
   "source": [
    "# inspect each column values to what needs further processing\n",
    "print(df['Registration State'].unique())\n",
    "# '99' do not look like a state so see how many vehicles are under this state\n",
    "df = df[df['Registration State'] != '99']\n",
    "print(df['Registration State'].unique())\n"
   ]
  },
  {
   "cell_type": "code",
   "execution_count": 879,
   "id": "f035b227",
   "metadata": {
    "scrolled": true
   },
   "outputs": [
    {
     "name": "stdout",
     "output_type": "stream",
     "text": [
      "['PAS' 'OMS' '999' 'OMT' 'SRF' 'COM' 'MED' 'ORG' 'MOT' 'TRL' 'HIS' 'SPO'\n",
      " 'MCL' 'NYS' 'RGL' 'VPL' 'OMV' 'OML' 'VAS' 'HIR' 'PSD' 'HAM' 'TOW' 'SOS'\n",
      " 'PHS' 'JSC' 'ITP' 'CMB' 'AGC' 'NLM' 'NYC' 'CSP' 'TRC' 'OMR' 'SEM' 'APP'\n",
      " 'SRN' 'LMB' 'SCL' 'IRP' 'DLR' 'NYA' 'CHC' 'STA' 'TRA' 'LTR' 'RGC' 'ORC'\n",
      " 'ARG' 'SPC' 'LMA' 'SUP' 'ATV' 'AYG' 'AMB' 'BOB' 'AGR' 'STG' 'CLG' 'CME'\n",
      " 'LMC' 'OMO' 'FAR' 'CBS' 'JCA' 'MCD' 'CCK' 'CMH' 'PPH' 'OMF' 'THC' 'HSM'\n",
      " 'GSM' 'WUG' 'USC' 'BOT' 'JWV' 'FPW' 'HOU' 'LUA']\n",
      "['PAS' 'OMS' 'OMT' 'SRF' 'COM' 'MED' 'ORG' 'MOT' 'TRL' 'HIS' 'SPO' 'MCL'\n",
      " 'NYS' 'RGL' 'VPL' 'OMV' 'OML' 'VAS' 'HIR' 'PSD' 'HAM' 'TOW' 'SOS' 'PHS'\n",
      " 'JSC' 'ITP' 'CMB' 'AGC' 'NLM' 'NYC' 'CSP' 'TRC' 'OMR' 'SEM' 'APP' 'SRN'\n",
      " 'LMB' 'SCL' 'IRP' 'DLR' 'NYA' 'CHC' 'STA' 'TRA' 'LTR' 'RGC' 'ORC' 'ARG'\n",
      " 'SPC' 'LMA' 'SUP' 'ATV' 'AYG' 'AMB' 'BOB' 'AGR' 'STG' 'CLG' 'CME' 'LMC'\n",
      " 'OMO' 'FAR' 'CBS' 'JCA' 'MCD' 'CCK' 'CMH' 'PPH' 'OMF' 'THC' 'HSM' 'GSM'\n",
      " 'WUG' 'USC' 'BOT' 'JWV' 'FPW' 'HOU' 'LUA']\n",
      "PAS    5047004\n",
      "COM     553508\n",
      "OMT     209632\n",
      "SRF      73239\n",
      "OMS      61071\n",
      "        ...   \n",
      "WUG          1\n",
      "BOT          1\n",
      "JWV          1\n",
      "FPW          1\n",
      "HOU          1\n",
      "Name: Plate Type, Length: 79, dtype: int64\n"
     ]
    }
   ],
   "source": [
    "print(df['Plate Type'].unique())\n",
    "# '999' do not look like a plate type so see how many under this and remove\n",
    "df = df[df['Plate Type'] != '999']\n",
    "print(df['Plate Type'].unique())\n",
    "print(df['Plate Type'].value_counts())"
   ]
  },
  {
   "cell_type": "code",
   "execution_count": 880,
   "id": "fd7f238b",
   "metadata": {},
   "outputs": [],
   "source": [
    "def find_threshold(df, column):\n",
    "    \"\"\"\n",
    "        returns the threshold of the column where the value counts first adds up to 99% rounded\n",
    "    \"\"\"\n",
    "    vc_list = df[column].value_counts().to_list()\n",
    "\n",
    "    # print(len(plate_list_count))\n",
    "    # print(plate_list_count)\n",
    "    # # 6096259 number of violations\n",
    "    total = df.shape[0]\n",
    "    percentage = []\n",
    "    sum = 0\n",
    "    for i in vc_list:\n",
    "        sum += i\n",
    "        percentage.append(round((sum/total), 2) * 100)\n",
    "    # # from percentage you can see that about 99 percent of data makes up with only 7 plate types\n",
    "\n",
    "    threshold_index = 0\n",
    "    for i in range(len(percentage)):\n",
    "        if percentage[i] >= 80.0:\n",
    "            threshold_index = i\n",
    "            break\n",
    "\n",
    "    threshold = vc_list[threshold_index]\n",
    "    # # remove rows where plate types less than threshold\n",
    "    return threshold"
   ]
  },
  {
   "cell_type": "code",
   "execution_count": null,
   "id": "f2a2f28f",
   "metadata": {},
   "outputs": [],
   "source": []
  },
  {
   "cell_type": "code",
   "execution_count": 881,
   "id": "3d02293a",
   "metadata": {},
   "outputs": [],
   "source": [
    "def remove_threshold(df, column, threshold):\n",
    "    value_counts = df[column].value_counts()\n",
    "    to_remove = value_counts[value_counts < threshold].index\n",
    "    df = df[~df[column].isin(to_remove)]\n",
    "    return df\n",
    "\n"
   ]
  },
  {
   "cell_type": "code",
   "execution_count": 882,
   "id": "29cfd40e",
   "metadata": {},
   "outputs": [],
   "source": [
    "def remove_threshold_all(df, columns):\n",
    "    \"\"\"\n",
    "        given an order of \n",
    "        return df where all threshold is removed\n",
    "    \"\"\"\n",
    "    for column in columns:\n",
    "        threshold = find_threshold(df, column)\n",
    "        df = remove_threshold(df, column, threshold)\n",
    "    return df"
   ]
  },
  {
   "cell_type": "code",
   "execution_count": 883,
   "id": "a0e3f7d3",
   "metadata": {},
   "outputs": [],
   "source": [
    "df = remove_threshold_all(df, ['Plate Type', 'Vehicle Make', 'Violation Code'])"
   ]
  },
  {
   "cell_type": "code",
   "execution_count": 884,
   "id": "85fb3321",
   "metadata": {},
   "outputs": [
    {
     "name": "stdout",
     "output_type": "stream",
     "text": [
      "(3302286, 8)\n",
      "36    1744620\n",
      "21     534701\n",
      "38     232602\n",
      "7      182111\n",
      "40     158773\n",
      "71     157755\n",
      "14     150896\n",
      "5      140828\n",
      "Name: Violation Code, dtype: int64\n"
     ]
    }
   ],
   "source": [
    "print(df.shape)\n",
    "print(df['Violation Code'].value_counts())"
   ]
  },
  {
   "cell_type": "code",
   "execution_count": null,
   "id": "5a05e38c",
   "metadata": {},
   "outputs": [],
   "source": []
  },
  {
   "cell_type": "code",
   "execution_count": null,
   "id": "c17665df",
   "metadata": {},
   "outputs": [],
   "source": []
  },
  {
   "cell_type": "code",
   "execution_count": 885,
   "id": "9ddac386",
   "metadata": {},
   "outputs": [
    {
     "name": "stdout",
     "output_type": "stream",
     "text": [
      "(3302286, 8)\n"
     ]
    }
   ],
   "source": [
    "print(df.shape)"
   ]
  },
  {
   "cell_type": "code",
   "execution_count": 886,
   "id": "1039d022",
   "metadata": {},
   "outputs": [
    {
     "name": "stdout",
     "output_type": "stream",
     "text": [
      "   Registration State Plate Type  Violation Code Vehicle Body Type  \\\n",
      "26                 NY        PAS              14              SUBN   \n",
      "42                 NY        PAS              14              SUBN   \n",
      "44                 NY        PAS              14               SDN   \n",
      "50                 NY        PAS              14               SDN   \n",
      "51                 NY        PAS              14              SUBN   \n",
      "\n",
      "   Vehicle Make  Violation Precinct Violation Time Violation County  \n",
      "26        ACURA                  84          0940A                K  \n",
      "42        HONDA                  42          0537P               BX  \n",
      "44          BMW                  42          0744P               BX  \n",
      "50        LEXUS                  52          1109A               BX  \n",
      "51        LEXUS                  42          0832A               BX  \n"
     ]
    }
   ],
   "source": [
    "print(df.head())"
   ]
  },
  {
   "cell_type": "code",
   "execution_count": 887,
   "id": "b4b60973",
   "metadata": {
    "scrolled": true
   },
   "outputs": [
    {
     "name": "stdout",
     "output_type": "stream",
     "text": [
      "HONDA    565098\n",
      "TOYOT    452247\n",
      "NISSA    386619\n",
      "FORD     265171\n",
      "BMW      236972\n",
      "JEEP     222715\n",
      "ME/BE    215975\n",
      "CHEVR    188792\n",
      "HYUND    160091\n",
      "LEXUS    122870\n",
      "ACURA    109607\n",
      "SUBAR    102654\n",
      "DODGE     95817\n",
      "VOLKS     89765\n",
      "AUDI      87893\n",
      "Name: Vehicle Make, dtype: int64\n"
     ]
    }
   ],
   "source": [
    "print(df['Vehicle Make'].value_counts())"
   ]
  },
  {
   "cell_type": "code",
   "execution_count": null,
   "id": "aa305fe0",
   "metadata": {},
   "outputs": [],
   "source": []
  },
  {
   "cell_type": "code",
   "execution_count": null,
   "id": "f21eea50",
   "metadata": {},
   "outputs": [],
   "source": [
    "\n"
   ]
  },
  {
   "cell_type": "code",
   "execution_count": null,
   "id": "8d4d1cce",
   "metadata": {},
   "outputs": [],
   "source": []
  },
  {
   "cell_type": "code",
   "execution_count": null,
   "id": "bce73dbd",
   "metadata": {},
   "outputs": [],
   "source": []
  },
  {
   "cell_type": "code",
   "execution_count": 888,
   "id": "9ee939fb",
   "metadata": {},
   "outputs": [
    {
     "name": "stdout",
     "output_type": "stream",
     "text": [
      "[ 84  42  52 100  76  72  45  14  25 108  63 110 106  23 120  48   4  44\n",
      "  66  75  43  83  62  41  69 109  47  40 122  60 111  68  61  24  50  49\n",
      " 107 123   1  17 103 105  73 112 114  19  13  33  34  30  71  70  90 115\n",
      " 113 102 101  88   0  79  77  67  78 121  18   6  32  10  28 104  20  46\n",
      "   5  94   7  26  21  81  36  38   9  29  85 144 272 163  22 116  87  95\n",
      " 164   3 805  15  56 119  65 161 136   2  96  93  80 171  91  74  35] 107\n"
     ]
    }
   ],
   "source": [
    "print(df['Violation Precinct'].unique(), len(df['Violation Precinct'].unique()))\n",
    "# prob nothing to be done here"
   ]
  },
  {
   "cell_type": "code",
   "execution_count": 889,
   "id": "05acae06",
   "metadata": {},
   "outputs": [
    {
     "name": "stdout",
     "output_type": "stream",
     "text": [
      "['0940A' '0537P' '0744P' ... '3100P' '0004P' '.130A'] 1514\n",
      "(3302281, 8)\n",
      "(3302281,)\n",
      "done\n",
      "Morning      1396226\n",
      "Afternoon     973035\n",
      "Evening       469779\n",
      "Night         463241\n",
      "Name: Violation Day, dtype: int64\n"
     ]
    }
   ],
   "source": [
    "print(df['Violation Time'].unique(), len(df['Violation Time'].unique()))\n",
    "\n",
    "# remove rows of string length violation time less than 5\n",
    "# follow format HHMM(A/P)\n",
    "hour = {'00', '01', '02', '03', '04', '05', '06', '07', '08', '09', '10',\n",
    "        '11', '12', '13', '14', '15', '16', '17', '18', '19', '20', '21', '22', '23'}\n",
    "def expression_check(time):\n",
    "    # time follows HHMM A/P\n",
    "    if len(time) == 5 and (time[0:2] in hour) and (time[4] == 'P' or time[4] == 'A'):\n",
    "        return True\n",
    "    return False\n",
    "\n",
    "df = df[df['Violation Time'].apply(lambda x: expression_check(x))]\n",
    "print(df.shape)\n",
    "# too many time, standardize time\n",
    "\n",
    "# Parts of the Day\n",
    "\n",
    "# Morning     5 am to 12 pm (noon)\n",
    "\n",
    "# Afternoon     12 pm to 5 pm\n",
    "\n",
    "# Evening     5 pm to 9 pm\n",
    "\n",
    "# Night         9 pm to 4 am\n",
    "\n",
    "# create a new column \"Violation Day\" iterate through each row and \n",
    "violation_time = df[\"Violation Time\"]\n",
    "\n",
    "print(violation_time.shape)\n",
    "violation_day = []\n",
    "start_morning = 5\n",
    "end_morning = 12\n",
    "\n",
    "start_noon = 12\n",
    "end_noon = 5 + 12\n",
    "\n",
    "start_evening = 5 + 12\n",
    "end_evening = 9 + 12\n",
    "\n",
    "\n",
    "for i, time in enumerate(violation_time):\n",
    "\n",
    "    hour = int(time[0:2])\n",
    "    # edge case\n",
    "    if(hour == 12 and time[4] == 'A'):\n",
    "        hour = 0\n",
    "    elif(hour != 12 and time[4] == 'P'):\n",
    "        hour = hour + 12\n",
    "\n",
    "    if hour >= start_morning and hour < end_morning:\n",
    "        violation_day.append(\"Morning\")\n",
    "    elif hour >= start_noon and hour < end_noon:\n",
    "        violation_day.append(\"Afternoon\")\n",
    "    elif hour >= start_evening and hour < end_evening:\n",
    "        violation_day.append(\"Evening\")\n",
    "    else:\n",
    "        violation_day.append(\"Night\")\n",
    "\n",
    "print(\"done\")    \n",
    "df[\"Violation Day\"] = violation_day\n",
    "#drop violation column, no longer need it\n",
    "print(df[\"Violation Day\"].value_counts())\n",
    "\n",
    "\n",
    "violation_hour = []\n",
    "for i, time in enumerate(violation_time):\n",
    "    hour = int(time[0:2]) % 12\n",
    "    if time[4] == 'A':\n",
    "        violation_hour.append(str(hour))\n",
    "    else:\n",
    "        hour += 12\n",
    "        violation_hour.append(str(hour))\n",
    "\n",
    "df[\"Violation Hour\"] = violation_hour\n",
    "#drop violation column, no longer need it\n"
   ]
  },
  {
   "cell_type": "code",
   "execution_count": 890,
   "id": "58fac560",
   "metadata": {},
   "outputs": [
    {
     "name": "stdout",
     "output_type": "stream",
     "text": [
      "9     289853\n",
      "11    280896\n",
      "8     275034\n",
      "12    236840\n",
      "10    217455\n",
      "13    201107\n",
      "14    192587\n",
      "15    177802\n",
      "7     170337\n",
      "16    164700\n",
      "17    149123\n",
      "18    126520\n",
      "6     108235\n",
      "19    100627\n",
      "20     93509\n",
      "21     86710\n",
      "22     65445\n",
      "23     64666\n",
      "0      61689\n",
      "1      57695\n",
      "5      54416\n",
      "2      45675\n",
      "3      42333\n",
      "4      39027\n",
      "Name: Violation Hour, dtype: int64\n"
     ]
    }
   ],
   "source": [
    "print(df['Violation Hour'].value_counts())"
   ]
  },
  {
   "cell_type": "code",
   "execution_count": 891,
   "id": "5577d886",
   "metadata": {},
   "outputs": [
    {
     "name": "stdout",
     "output_type": "stream",
     "text": [
      "['K' 'BX' 'NY' 'Q' 'R' 'BK' 'QN' 'MN' 'Kings' 'Qns' 'Bronx' 'ST' 'Rich'\n",
      " 'QNS'] 14\n",
      "['K' 'BX' 'NY' 'QNS' 'R' 'BK' 'MN' 'ST']\n",
      "QNS    1032506\n",
      "BK      664062\n",
      "BX      524940\n",
      "K       413034\n",
      "NY      326569\n",
      "MN      185045\n",
      "ST      133164\n",
      "R        22961\n",
      "Name: Violation County, dtype: int64\n"
     ]
    }
   ],
   "source": [
    "print(df['Violation County'].unique(), len(df['Violation County'].unique()))\n",
    "# violation county has same county but different abbreivations\n",
    "\n",
    "county_mapping = {'NY': 'NY','BX':'BX', 'Q':'QNS', 'R':'R', 'K':'K', 'MS': 'MS', 'BK': 'BK',\n",
    "           'QN': 'QNS', 'MN': 'MN', 'Kings': 'K',\n",
    "           'Qns': 'QNS', 'Bronx': 'BX', 'Rich': 'R', 'ST':'ST', 'QNS':'QNS', 'ABX': 'ABX'}\n",
    "\n",
    "df['Violation County'] = df['Violation County'].map(county_mapping)\n",
    "print(df['Violation County'].unique())\n",
    "print(df['Violation County'].value_counts())\n",
    "#drop 'MS' and 'ABX'\n",
    "df = df[df['Violation County'] != 'MS']\n",
    "df = df[df['Violation County'] != 'ABX']\n",
    "\n"
   ]
  },
  {
   "cell_type": "code",
   "execution_count": 892,
   "id": "0e7869e2",
   "metadata": {},
   "outputs": [
    {
     "name": "stdout",
     "output_type": "stream",
     "text": [
      "<class 'pandas.core.frame.DataFrame'>\n",
      "Int64Index: 3302281 entries, 26 to 6129755\n",
      "Data columns (total 10 columns):\n",
      " #   Column              Dtype \n",
      "---  ------              ----- \n",
      " 0   Registration State  object\n",
      " 1   Plate Type          object\n",
      " 2   Violation Code      int64 \n",
      " 3   Vehicle Body Type   object\n",
      " 4   Vehicle Make        object\n",
      " 5   Violation Precinct  int64 \n",
      " 6   Violation Time      object\n",
      " 7   Violation County    object\n",
      " 8   Violation Day       object\n",
      " 9   Violation Hour      object\n",
      "dtypes: int64(2), object(8)\n",
      "memory usage: 277.1+ MB\n",
      "None\n",
      "(3302281, 10)\n"
     ]
    }
   ],
   "source": [
    "print(df.info())\n",
    "print(df.shape)"
   ]
  },
  {
   "cell_type": "code",
   "execution_count": 893,
   "id": "d07f76d9",
   "metadata": {},
   "outputs": [],
   "source": [
    "# transport clean data to csv\n",
    "df.to_csv(\"filtered_data2.csv\", encoding='utf-8', index=False)"
   ]
  },
  {
   "cell_type": "code",
   "execution_count": 894,
   "id": "c3ec637a",
   "metadata": {},
   "outputs": [],
   "source": [
    "# transformation to be done\n",
    "# select data that reflects general population\n",
    "# this includes\n",
    "# plate type\n",
    "# violation type\n",
    "# vehicle maker\n",
    "# color -> choose color that we could easily translate\n",
    "# \n"
   ]
  },
  {
   "cell_type": "code",
   "execution_count": 895,
   "id": "eceda769",
   "metadata": {},
   "outputs": [],
   "source": [
    "# write a funciton to get the counts + quartile + iqr\n",
    "# find lower threshold remove it\n",
    "# apply function on each of the data\n",
    "# analyze data\n"
   ]
  }
 ],
 "metadata": {
  "kernelspec": {
   "display_name": "Python 3 (ipykernel)",
   "language": "python",
   "name": "python3"
  },
  "language_info": {
   "codemirror_mode": {
    "name": "ipython",
    "version": 3
   },
   "file_extension": ".py",
   "mimetype": "text/x-python",
   "name": "python",
   "nbconvert_exporter": "python",
   "pygments_lexer": "ipython3",
   "version": "3.9.7"
  }
 },
 "nbformat": 4,
 "nbformat_minor": 5
}
