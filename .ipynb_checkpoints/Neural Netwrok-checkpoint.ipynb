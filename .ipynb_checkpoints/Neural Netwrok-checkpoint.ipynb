{
 "cells": [
  {
   "cell_type": "code",
   "execution_count": 10,
   "id": "7ac157a8",
   "metadata": {},
   "outputs": [],
   "source": [
    "import pandas as pd\n",
    "import numpy as np\n",
    "from sklearn.preprocessing import LabelEncoder\n",
    "from sklearn.model_selection import train_test_split\n",
    "import matplotlib.pyplot as plt \n",
    "import tensorflow as tf\n",
    "from tensorflow import keras\n",
    "from tensorflow.keras.models import Sequential\n",
    "from tensorflow.keras.layers import Dropout"
   ]
  },
  {
   "cell_type": "code",
   "execution_count": 11,
   "id": "a00d0792",
   "metadata": {},
   "outputs": [],
   "source": [
    "columns = ['Registration State','Plate Type','Violation Code','Vehicle Body Type','Vehicle Make','Violation Precinct',\n",
    "            'Violation Time','Violation County','Violation Day','Violation Hour']\n",
    "df = pd.read_csv(filepath_or_buffer= 'filtered_data2.csv', delimiter=',', header=None, names=columns, low_memory=False)"
   ]
  },
  {
   "cell_type": "code",
   "execution_count": 12,
   "id": "c6589fbb",
   "metadata": {},
   "outputs": [],
   "source": [
    "#target feature = Violation Code\n",
    "y = df['Violation Code']\n",
    "X = df.drop('Violation Code', axis = 1)\n",
    "\n",
    "df = df[columns]\n",
    "\n",
    "y = pd.get_dummies(y, columns=['Violation Code'])\n",
    "\n",
    "#one-hot-encoding on raw data w/o ordinalencoder\n",
    "X = pd.get_dummies(df,columns=columns)"
   ]
  },
  {
   "cell_type": "code",
   "execution_count": 13,
   "id": "6247f49c",
   "metadata": {},
   "outputs": [
    {
     "name": "stdout",
     "output_type": "stream",
     "text": [
      "Length of train set x: 2311597 y: 2311597\n",
      "Length of test set x: 990685 y: 990685\n",
      "Train shape : (2311597, 2086), Y Train : (2311597, 9)\n",
      "(2086,)\n",
      "Shape of y_train (2311597, 9)\n",
      "Shape of y_test (990685, 9)\n",
      "Shape of x_train (2311597, 2086)\n",
      "Shape of x_test (990685, 2086)\n",
      "(9,)\n"
     ]
    }
   ],
   "source": [
    "x_train, x_test, y_train, y_test = train_test_split (X,y, test_size=0.3)\n",
    "print(\"Length of train set x:\",x_train.shape[0],\"y:\",y_train.shape[0])\n",
    "print(\"Length of test set x:\",x_test.shape[0],\"y:\",y_test.shape[0])\n",
    "print(f\"Train shape : {x_train.shape}, Y Train : {y_train.shape}\")\n",
    "print(x_train.shape[1:])\n",
    "print(\"Shape of y_train\",y_train.shape)\n",
    "print(\"Shape of y_test\",y_test.shape)\n",
    "print(\"Shape of x_train\",x_train.shape)\n",
    "print(\"Shape of x_test\",x_test.shape)\n",
    "print(y_train.shape[1:])"
   ]
  },
  {
   "cell_type": "code",
   "execution_count": 14,
   "id": "f3bc037f",
   "metadata": {},
   "outputs": [
    {
     "name": "stdout",
     "output_type": "stream",
     "text": [
      "Model: \"sequential_1\"\n",
      "_________________________________________________________________\n",
      " Layer (type)                Output Shape              Param #   \n",
      "=================================================================\n",
      " dense_3 (Dense)             (None, 512)               1068544   \n",
      "                                                                 \n",
      " dropout_2 (Dropout)         (None, 512)               0         \n",
      "                                                                 \n",
      " dense_4 (Dense)             (None, 100)               51300     \n",
      "                                                                 \n",
      " dropout_3 (Dropout)         (None, 100)               0         \n",
      "                                                                 \n",
      " dense_5 (Dense)             (None, 9)                 909       \n",
      "                                                                 \n",
      "=================================================================\n",
      "Total params: 1,120,753\n",
      "Trainable params: 1,120,753\n",
      "Non-trainable params: 0\n",
      "_________________________________________________________________\n"
     ]
    }
   ],
   "source": [
    "model = tf.keras.models.Sequential()\n",
    "model.add(keras.layers.Input(shape=x_train.shape[1:]))\n",
    "model.add(keras.layers.Dense(512,activation='relu'))\n",
    "model.add(Dropout(0.2))\n",
    "model.add(keras.layers.Dense(100,activation='relu'))\n",
    "model.add(Dropout(0.2))\n",
    "model.add(keras.layers.Dense(9,activation='softmax'))\n",
    "model.summary()"
   ]
  },
  {
   "cell_type": "code",
   "execution_count": 15,
   "id": "6bc50d3a",
   "metadata": {},
   "outputs": [],
   "source": [
    "model.compile(optimizer=tf.keras.optimizers.Adam(learning_rate=1e-3), \n",
    "              loss=keras.losses.CategoricalCrossentropy(),\n",
    "             metrics=['accuracy'])"
   ]
  },
  {
   "cell_type": "code",
   "execution_count": 16,
   "id": "cef04736",
   "metadata": {
    "scrolled": true
   },
   "outputs": [
    {
     "name": "stdout",
     "output_type": "stream",
     "text": [
      "Epoch 1/5\n",
      "72238/72238 - 362s - loss: 0.0010 - accuracy: 0.9997 - val_loss: 6.1096e-06 - val_accuracy: 1.0000 - 362s/epoch - 5ms/step\n",
      "Epoch 2/5\n",
      "72238/72238 - 335s - loss: 5.0435e-11 - accuracy: 1.0000 - val_loss: 5.8284e-06 - val_accuracy: 1.0000 - 335s/epoch - 5ms/step\n",
      "Epoch 3/5\n",
      "72238/72238 - 344s - loss: 5.5682e-10 - accuracy: 1.0000 - val_loss: 5.2835e-06 - val_accuracy: 1.0000 - 344s/epoch - 5ms/step\n",
      "Epoch 4/5\n",
      "72238/72238 - 328s - loss: 3.0839e-11 - accuracy: 1.0000 - val_loss: 5.5091e-06 - val_accuracy: 1.0000 - 328s/epoch - 5ms/step\n",
      "Epoch 5/5\n",
      "72238/72238 - 199s - loss: 7.1167e-12 - accuracy: 1.0000 - val_loss: 5.7541e-06 - val_accuracy: 1.0000 - 199s/epoch - 3ms/step\n"
     ]
    }
   ],
   "source": [
    "history = model.fit(x_train, y_train, epochs=5, validation_data=(x_test, y_test), verbose=2)"
   ]
  },
  {
   "cell_type": "code",
   "execution_count": 17,
   "id": "f72c5b4a",
   "metadata": {},
   "outputs": [
    {
     "name": "stdout",
     "output_type": "stream",
     "text": [
      "30959/30959 [==============================] - 35s 1ms/step - loss: 5.7541e-06 - accuracy: 1.0000\n"
     ]
    },
    {
     "data": {
      "text/plain": [
       "[5.754063295171363e-06, 0.9999989867210388]"
      ]
     },
     "execution_count": 17,
     "metadata": {},
     "output_type": "execute_result"
    }
   ],
   "source": [
    "model.evaluate(x_test, y_test)"
   ]
  },
  {
   "cell_type": "code",
   "execution_count": null,
   "id": "174ccd82",
   "metadata": {},
   "outputs": [],
   "source": []
  }
 ],
 "metadata": {
  "kernelspec": {
   "display_name": "Python 3 (ipykernel)",
   "language": "python",
   "name": "python3"
  },
  "language_info": {
   "codemirror_mode": {
    "name": "ipython",
    "version": 3
   },
   "file_extension": ".py",
   "mimetype": "text/x-python",
   "name": "python",
   "nbconvert_exporter": "python",
   "pygments_lexer": "ipython3",
   "version": "3.9.7"
  }
 },
 "nbformat": 4,
 "nbformat_minor": 5
}
