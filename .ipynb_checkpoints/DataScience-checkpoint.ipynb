{
 "cells": [
  {
   "cell_type": "code",
   "execution_count": 3,
   "metadata": {},
   "outputs": [
    {
     "name": "stdout",
     "output_type": "stream",
     "text": [
      "   summons_number plate_id registration_state plate_type  \\\n",
      "0      1484697303  JER1863                 NY        PAS   \n",
      "\n",
      "                issue_date  violation_code vehicle_body_type vehicle_make  \\\n",
      "0  2022-06-10T00:00:00.000              67               SDN        TOYOT   \n",
      "\n",
      "  issuing_agency  street_code1  ...  vehicle_color  unregistered_vehicle  \\\n",
      "0              P         34330  ...            BLK                     0   \n",
      "\n",
      "   vehicle_year  meter_number  feet_from_curb  violation_post_code  \\\n",
      "0          2004             -               0                  NaN   \n",
      "\n",
      "   violation_description no_standing_or_stopping_violation  hydrant_violation  \\\n",
      "0                    NaN                               NaN                NaN   \n",
      "\n",
      "  double_parking_violation  \n",
      "0                      NaN  \n",
      "\n",
      "[1 rows x 43 columns]\n"
     ]
    }
   ],
   "source": [
    "from urllib.request import urlretrieve\n",
    "import pandas as pd\n",
    "\n",
    "url = 'https://data.cityofnewyork.us/resource/pvqr-7yc4.csv'\n",
    "urlretrieve(url, 'pvqr-7yc4.csv')\n",
    "\n",
    "df = pd.read_csv('pvqr-7yc4.csv')\n",
    "\n",
    "print(df.head(1))"
   ]
  },
  {
   "cell_type": "code",
   "execution_count": null,
   "metadata": {},
   "outputs": [],
   "source": []
  }
 ],
 "metadata": {
  "kernelspec": {
   "display_name": "Python 3 (ipykernel)",
   "language": "python",
   "name": "python3"
  },
  "language_info": {
   "codemirror_mode": {
    "name": "ipython",
    "version": 3
   },
   "file_extension": ".py",
   "mimetype": "text/x-python",
   "name": "python",
   "nbconvert_exporter": "python",
   "pygments_lexer": "ipython3",
   "version": "3.9.7"
  }
 },
 "nbformat": 4,
 "nbformat_minor": 2
}
