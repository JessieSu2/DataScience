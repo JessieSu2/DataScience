{
 "cells": [
  {
   "cell_type": "code",
   "execution_count": 121,
   "id": "54c58448",
   "metadata": {},
   "outputs": [
    {
     "name": "stdout",
     "output_type": "stream",
     "text": [
      "/Users/solomonzhang/Downloads\n"
     ]
    }
   ],
   "source": [
    "import pandas as pd\n",
    "import numpy as np\n",
    "import random\n",
    "import os\n",
    "print(os.getcwd())\n"
   ]
  },
  {
   "cell_type": "code",
   "execution_count": 122,
   "id": "6f4fb454",
   "metadata": {},
   "outputs": [
    {
     "name": "stdout",
     "output_type": "stream",
     "text": [
      "(6129757, 9)\n",
      "<class 'pandas.core.frame.DataFrame'>\n",
      "RangeIndex: 6129757 entries, 0 to 6129756\n",
      "Data columns (total 9 columns):\n",
      " #   Column              Dtype \n",
      "---  ------              ----- \n",
      " 0   Registration State  object\n",
      " 1   Plate Type          object\n",
      " 2   Violation Code      int64 \n",
      " 3   Vehicle Body Type   object\n",
      " 4   Vehicle Make        object\n",
      " 5   Violation Precinct  int64 \n",
      " 6   Violation Time      object\n",
      " 7   Violation County    object\n",
      " 8   Vehicle Color       object\n",
      "dtypes: int64(2), object(7)\n",
      "memory usage: 420.9+ MB\n",
      "None\n",
      "  Registration State Plate Type  Violation Code Vehicle Body Type  \\\n",
      "0                 NY        PAS              67               SDN   \n",
      "1                 NY        PAS              51              SUBN   \n",
      "2                 NJ        PAS              63               SDN   \n",
      "3                 NY        PAS              63              SUBN   \n",
      "4                 NJ        PAS              63               SDN   \n",
      "\n",
      "  Vehicle Make  Violation Precinct Violation Time Violation County  \\\n",
      "0        TOYOT                  10          1037A               NY   \n",
      "1         JEEP                  10          1045A               NY   \n",
      "2         JEEP                   1          1116A               NY   \n",
      "3        LEXUS                   1          1052A               NY   \n",
      "4        HYUND                   1          1107A               NY   \n",
      "\n",
      "  Vehicle Color  \n",
      "0           BLK  \n",
      "1          GRAY  \n",
      "2          GRAY  \n",
      "3           NaN  \n",
      "4          BLUE  \n"
     ]
    }
   ],
   "source": [
    "df = pd.read_csv(\"filtered_data.csv\")\n",
    "print(df.shape)\n",
    "print(df.info())\n",
    "print(df.head())\n",
    "#(6129757, 9)"
   ]
  },
  {
   "cell_type": "code",
   "execution_count": 123,
   "id": "eb9135ce",
   "metadata": {},
   "outputs": [
    {
     "data": {
      "text/plain": [
       "'\\nWe will be building a model to see if we could predict violation \\ncode based on vehicle descriptions and location.\\nHence, this brings the awareness where people could try to be more careful if they match description\\n'"
      ]
     },
     "execution_count": 123,
     "metadata": {},
     "output_type": "execute_result"
    }
   ],
   "source": [
    "# question we are answering\n",
    "\"\"\"\n",
    "We will be building a model to see if we could predict violation \n",
    "code based on vehicle descriptions and location.\n",
    "Hence, this brings the awareness where people could try to be more careful if they match description\n",
    "\"\"\""
   ]
  },
  {
   "cell_type": "code",
   "execution_count": null,
   "id": "e8e3c57b",
   "metadata": {},
   "outputs": [],
   "source": []
  },
  {
   "cell_type": "code",
   "execution_count": 124,
   "id": "3b7bfc41",
   "metadata": {},
   "outputs": [
    {
     "name": "stdout",
     "output_type": "stream",
     "text": [
      "Registration State         0\n",
      "Plate Type                 0\n",
      "Violation Code             0\n",
      "Vehicle Body Type      15645\n",
      "Vehicle Make            5485\n",
      "Violation Precinct         0\n",
      "Violation Time            66\n",
      "Violation County       16403\n",
      "Vehicle Color         542695\n",
      "dtype: int64\n"
     ]
    }
   ],
   "source": [
    "# observe data\n",
    "print(df.isnull().sum())\n",
    "# there are only null values in the following columns\n",
    "# Vehicle Body Type\n",
    "# Vehicle Make\n",
    "# Violation Time\n",
    "# Violation County\n",
    "# Vehicle Color"
   ]
  },
  {
   "cell_type": "code",
   "execution_count": 125,
   "id": "f2aa3821",
   "metadata": {},
   "outputs": [
    {
     "name": "stdout",
     "output_type": "stream",
     "text": [
      "Registration State    0\n",
      "Plate Type            0\n",
      "Violation Code        0\n",
      "Vehicle Body Type     0\n",
      "Vehicle Make          0\n",
      "Violation Precinct    0\n",
      "Violation Time        0\n",
      "Violation County      0\n",
      "Vehicle Color         0\n",
      "dtype: int64\n"
     ]
    }
   ],
   "source": [
    "# violation code -> clean this first \n",
    "#     find lower threshold and remove violation tickets that dont lower threshold\n",
    "# time -> format HHMM(A/P) -> use this to categorize time\n",
    "# Vehicle Maker \n",
    "# Registration State\n",
    "# Plate Type\n",
    "# Vehicle Body Type\n",
    "# Vehicle Color\n",
    "#     find lower threshold by count and remove violation tickets that dont lower threshold\n",
    "#     do by count \n",
    "\n",
    "# reason why we decide threshold by count\n",
    "# the more people that has this description, the more relevant it is\n",
    "# the less people that has this description, the less relevant it is \n",
    "# in terms of reflecting general population\n",
    "\n",
    "# Hence\n",
    "# reasoning to remove lower threshold\n",
    "# this is because these descriptions do not reflect the overall population as the descriptions are not common\n",
    "# lower threshold does not reflect \n",
    "\n",
    "# reason to keep upper threshold\n",
    "# the more people that follows these descriptions, the more it reflects the general population\n",
    "# hence, if we to remove upper threshold, it will essentially remove a huge chunk of our data that reflects general\n",
    "# population\n",
    "\n",
    "# for example\n",
    "# if a violation code 'X' has only 1 violation \n",
    "# then it does not make sense to include 'X' since it does not reflect overall population\n",
    "# and if a violation code 'Y' has 1000000\n",
    "# then it does make sense to include Y\n",
    "\n",
    "# in comparison to the total number of data\n",
    "# a small portion of data has None values\n",
    "# also in this context, we cannot use stuff we dont know as filling the none values will introduce inaccurate values\n",
    "# so we could first drop Null values as it would not have a significant impact on the data\n",
    "\n",
    "df = df.dropna()\n",
    "print(df.isnull().sum())\n",
    "\n"
   ]
  },
  {
   "cell_type": "code",
   "execution_count": 126,
   "id": "06902cd4",
   "metadata": {},
   "outputs": [
    {
     "name": "stdout",
     "output_type": "stream",
     "text": [
      "(5562715, 9)\n"
     ]
    }
   ],
   "source": [
    "# approximately 500000 rows are removed mostly from color\n",
    "print(df.shape)"
   ]
  },
  {
   "cell_type": "code",
   "execution_count": 127,
   "id": "da85928c",
   "metadata": {},
   "outputs": [
    {
     "name": "stdout",
     "output_type": "stream",
     "text": [
      "['NY' 'NJ' 'PA' 'FL' 'OH' 'MA' 'NC' 'UT' '99' 'GA' 'TN' 'CA' 'CT' 'MS'\n",
      " 'RI' 'TX' 'MN' 'AL' 'WA' 'ME' 'AR' 'IA' 'GV' 'OK' 'MI' 'DC' 'VA' 'VT'\n",
      " 'ID' 'SC' 'AK' 'ON' 'MO' 'AZ' 'MD' 'LA' 'IN' 'NH' 'DE' 'OR' 'ND' 'NV'\n",
      " 'QB' 'BC' 'NM' 'HI' 'IL' 'WI' 'MT' 'CO' 'MB' 'KY' 'PR' 'NS' 'WV' 'KS'\n",
      " 'SD' 'NB' 'WY' 'NE' 'DP' 'AB' 'PE' 'SK' 'FO']\n",
      "['NY' 'NJ' 'PA' 'FL' 'OH' 'MA' 'NC' 'UT' 'GA' 'TN' 'CA' 'CT' 'MS' 'RI'\n",
      " 'TX' 'MN' 'AL' 'WA' 'ME' 'AR' 'IA' 'GV' 'OK' 'MI' 'DC' 'VA' 'VT' 'ID'\n",
      " 'SC' 'AK' 'ON' 'MO' 'AZ' 'MD' 'LA' 'IN' 'NH' 'DE' 'OR' 'ND' 'NV' 'QB'\n",
      " 'BC' 'NM' 'HI' 'IL' 'WI' 'MT' 'CO' 'MB' 'KY' 'PR' 'NS' 'WV' 'KS' 'SD'\n",
      " 'NB' 'WY' 'NE' 'DP' 'AB' 'PE' 'SK' 'FO']\n"
     ]
    }
   ],
   "source": [
    "# inspect each column values to what needs further processing\n",
    "print(df['Registration State'].unique())\n",
    "# '99' do not look like a state so see how many vehicles are under this state\n",
    "df = df[df['Registration State'] != '99']\n",
    "print(df['Registration State'].unique())\n"
   ]
  },
  {
   "cell_type": "code",
   "execution_count": 128,
   "id": "f035b227",
   "metadata": {
    "scrolled": true
   },
   "outputs": [
    {
     "name": "stdout",
     "output_type": "stream",
     "text": [
      "['PAS' 'OMS' '999' 'OMT' 'SRF' 'COM' 'MED' 'ORG' 'MOT' 'TRL' 'HIS' 'SPO'\n",
      " 'MCL' 'NYS' 'RGL' 'VPL' 'OMV' 'OML' 'VAS' 'HIR' 'PSD' 'HAM' 'TOW' 'SOS'\n",
      " 'PHS' 'JSC' 'ITP' 'CMB' 'AGC' 'NLM' 'NYC' 'CSP' 'TRC' 'OMR' 'SEM' 'APP'\n",
      " 'SRN' 'LMB' 'SCL' 'IRP' 'DLR' 'NYA' 'CHC' 'STA' 'TRA' 'LTR' 'RGC' 'ORC'\n",
      " 'ARG' 'SPC' 'LMA' 'SUP' 'ATV' 'AYG' 'AMB' 'BOB' 'AGR' 'STG' 'CLG' 'CME'\n",
      " 'LMC' 'CBS' 'JCA' 'MCD' 'CCK' 'CMH' 'PPH' 'OMF' 'THC' 'HSM' 'GSM' 'WUG'\n",
      " 'USC' 'FAR' 'JWV' 'FPW' 'HOU' 'LUA' 'OMO']\n",
      "['PAS' 'OMS' 'OMT' 'SRF' 'COM' 'MED' 'ORG' 'MOT' 'TRL' 'HIS' 'SPO' 'MCL'\n",
      " 'NYS' 'RGL' 'VPL' 'OMV' 'OML' 'VAS' 'HIR' 'PSD' 'HAM' 'TOW' 'SOS' 'PHS'\n",
      " 'JSC' 'ITP' 'CMB' 'AGC' 'NLM' 'NYC' 'CSP' 'TRC' 'OMR' 'SEM' 'APP' 'SRN'\n",
      " 'LMB' 'SCL' 'IRP' 'DLR' 'NYA' 'CHC' 'STA' 'TRA' 'LTR' 'RGC' 'ORC' 'ARG'\n",
      " 'SPC' 'LMA' 'SUP' 'ATV' 'AYG' 'AMB' 'BOB' 'AGR' 'STG' 'CLG' 'CME' 'LMC'\n",
      " 'CBS' 'JCA' 'MCD' 'CCK' 'CMH' 'PPH' 'OMF' 'THC' 'HSM' 'GSM' 'WUG' 'USC'\n",
      " 'FAR' 'JWV' 'FPW' 'HOU' 'LUA' 'OMO']\n",
      "PAS    4516130\n",
      "COM     551819\n",
      "OMT     209384\n",
      "SRF      73096\n",
      "OMS      60985\n",
      "        ...   \n",
      "WUG          1\n",
      "JWV          1\n",
      "FPW          1\n",
      "HOU          1\n",
      "OMO          1\n",
      "Name: Plate Type, Length: 78, dtype: int64\n"
     ]
    }
   ],
   "source": [
    "print(df['Plate Type'].unique())\n",
    "# '999' do not look like a plate type so see how many under this and remove\n",
    "df = df[df['Plate Type'] != '999']\n",
    "print(df['Plate Type'].unique())\n",
    "print(df['Plate Type'].value_counts())"
   ]
  },
  {
   "cell_type": "code",
   "execution_count": 129,
   "id": "aa305fe0",
   "metadata": {},
   "outputs": [
    {
     "name": "stdout",
     "output_type": "stream",
     "text": [
      "[67 51 63 98 10 45 14 20 68 27 53 19 40 74 16 17 48 62 70 46 50 71 21 95\n",
      " 24 41 99 75 83 18 37 38 78 97 61 96 52 13 11 39 54 49  5 31 60 90 91  6\n",
      " 92 85 55 56  9 66  0 80 36 72 22 26  7 69 12 87 33 73 76 79 82 64 25  4\n",
      " 47 42 35 84 32  8 77 58 23 65 34 89 57 81 44 59  1 29  3  2 30 93 94]\n",
      "36    1954915\n",
      "21     716783\n",
      "38     343279\n",
      "14     290820\n",
      "20     244402\n",
      "       ...   \n",
      "34          3\n",
      "57          3\n",
      "81          1\n",
      "93          1\n",
      "94          1\n",
      "Name: Violation Code, Length: 95, dtype: int64\n"
     ]
    }
   ],
   "source": [
    "print(df['Violation Code'].unique())\n",
    "# all violation codes in data\n",
    "# choose violations that most reflect general population\n",
    "print(df['Violation Code'].value_counts())\n",
    "# df violtion code where code not in code_set\n",
    "# create a dataframe\n",
    "# violation code : count\n",
    "# \n",
    "\n"
   ]
  },
  {
   "cell_type": "code",
   "execution_count": null,
   "id": "f21eea50",
   "metadata": {},
   "outputs": [],
   "source": [
    "\n"
   ]
  },
  {
   "cell_type": "code",
   "execution_count": 130,
   "id": "8d4d1cce",
   "metadata": {},
   "outputs": [
    {
     "name": "stdout",
     "output_type": "stream",
     "text": [
      "['SDN' 'SUBN' 'VAN' 'FOUR' 'P-U' 'LIMO' 'TWOD' 'CONV' 'SADO' 'BLAC' 'OE'\n",
      " 'DELV' 'DUMP' 'TAXI' 'MERC' 'BMW' 'OUE' '4DSD' 'OLE' 'SPOR' 'ONE' 'TRUC'\n",
      " 'OLNE' 'OLME' 'OIE' 'MCY' 'SUV' 'SEDN' 'TT' 'OTSE' 'ONL' 'CNV' 'PICK'\n",
      " 'MOTO' 'ON' 'OME' 'BLK' 'NE' 'BUS' 'TRL' 'OTE' '2DSD' 'BUCK' 'OTLE'\n",
      " 'TRLR' 'TRAC' 'I' 'HTCH' 'SEMI' 'OLSE' '4S' 'UT' 'COUP' 'H/WH' 'ATV'\n",
      " 'UTIL' 'AMBU' 'LIM' 'CUST' 'SW' 'WAGN' '5D' '4D' 'SEDA' '2D' 'LL' 'Seda'\n",
      " '4H' 'SD' 'VN' 'HB' '2S' 'TK' 'PK' 'UV' 'Hatc' 'JP' 'SU' 'MP' 'MC' '4W'\n",
      " 'HRSE' 'CV' '2DOO' 'UTPC' 'SV' 'LI' 'APUR' 'S' 'Coup' '2H' 'CG' 'CP'\n",
      " 'H/IN' 'LM' '43' 'PV' 'WAGO' 'WG' '3D' 'ROVE' 'CN' 'PAS' 'TOW' 'EC'\n",
      " 'MINI' 'Spor' 'PE' 'SULB' 'PKPC' 'BOAT' 'TR/C' 'FLAT' 'REFG' 'MOBL' 'N/S'\n",
      " 'STAK' 'T/CR' 'TRAV' 'SWT' 'P/SH' 'MOPD' 'POLE' 'TRAI' 'TR' 'TRA' 'ACCO'\n",
      " 'OLL' 'TLR' 'TOWT' 'FRTC' 'TRH' 'TRC' 'TRK' 'TRAT' 'TF' 'ALFA' 'CON' 'TL'\n",
      " 'CXE' 'BT' 'LINC' 'BICK' 'POWE' 'MOT' 'HYBR' 'MOPE' 'BOX' 'PILO' 'MD'\n",
      " 'EBIK' 'RANG' 'TRTR' 'E' 'MACK' 'COM' 'ANE' 'OINI' 'MEY' 'DELI' 'T' 'OLN'\n",
      " 'SRF' 'TTR' 'TTK' 'M' 'REFR' 'FB' 'GRT' 'CRT' 'BIKE' 'TRUK' 'BOXT' 'TRAF'\n",
      " 'TRI' 'RF' 'FORD' 'REA' 'REF' 'REP' 'BL' 'DP' 'RV' 'LTRL' 'TEMP' 'S/SP'\n",
      " 'SCOO' 'H/TR' 'MFH' 'NISS' 'ODYS' 'TANK' 'OEL' 'CMIX' 'RAM' 'DCOM' 'EMVR'\n",
      " 'MCC' 'OI' 'CPE' 'TLE' 'OIME' 'BU' 'TR/E' 'PASS' '4DOO' 'VA' '4DPC' '8V'\n",
      " '4DR' 'MNVN' 'Wago' 'SUBU' '4DSE' 'CARR' 'PU' 'HATC' '2CV' '10' '5H'\n",
      " '4WHE' '00' 'PKUP' 'PATH' 'CARG' 'RAV' '5S' 'TAHO' '2C' 'YUKO' '4 DO'\n",
      " 'RD' 'LUXM' '2DSE' 'CZ' '4P' '4T' 'CB' 'MS' 'YY' 'STNW' 'UK' 'RBM' 'SE'\n",
      " 'HUMM' 'STRA' 'MH' 'VNTK' 'ROAD' '2W' 'MPV' '4' 'PLU' 'BLAZ' 'ESCA' '`'\n",
      " 'CHER' 'PKTK' 'HC' 'MOCL' '2DCV' 'STWA' 'WAG' 'W/DR' 'TY' 'EXPL' '4DHT'\n",
      " 'ROME' 'CARC' '3S' '6P' '9P' 'WRAN' 'RD/S' '4L' 'VEH-' 'R' 'COAC' 'BRON'\n",
      " 'INCC' 'ST' '20' 'COL' 'SN/P' 'RPLC' 'O' 'GRAY' 'GY' 'SUVN' 'MB' 'OS'\n",
      " 'OU' 'TWO' 'ALLE' 'NEW' 'MOME' 'MATI' 'SB' 'PVAN' 'ES' 'OSE' 'JEEP' 'ACK'\n",
      " 'TRT' 'BIK' 'MCIH' 'SENT' 'HWH' 'OL' 'CRV' 'EIGH' 'MT' 'MAC' 'OLER' 'CU'\n",
      " 'IC' 'COMM' 'TKR' 'OM' 'SUBA' 'FIAT' 'SONA' 'SCHO' 'ANER' 'SN' 'MCYS'\n",
      " 'HV' 'AE' 'ALTA' 'REVE' 'PRP' 'APP' 'MNBU' 'MKY' 'DUP' 'CR' 'TRAL' 'KENW'\n",
      " 'KAWA' 'TC' 'DEL' 'LSVT' 'LSV' 'Stat' 'OUTB' '4 WH' 'CW' 'DURA' 'MPVH'\n",
      " 'CUTA' 'TV' 'CBCH' '4DLI' 'HEAR' 'EXPE' '3P' 'AUTO' 'TWOW' 'XTER' 'Pick'\n",
      " 'CO' 'TB' 'SEQU' 'SIDE' 'STAT' 'VC' '4RUN' 'UL' 'TRAD' '2 WH' 'AC' '2L'\n",
      " '2DSW' '3DSE' '4 DR' '4DHB' 'Van' 'TU' '5W' 'FPM' 'CM' 'CE' 'A' 'OIM'\n",
      " 'AM' 'TOTA' 'IXI' 'OVE' 'GEN' 'VP' '4MAT' 'UNK' 'CXM' 'OTNE' 'DT' 'CH'\n",
      " 'BX' 'BS' 'DEMA' 'SUNP' 'TRU' 'OMI' 'HEAV' 'FRHT' 'AP' 'WRG' 'TGRU' 'FRI'\n",
      " 'TN' 'TROC' 'MIC' 'MO' 'TLK' 'FREI' 'OINO' 'ARO' 'GMC' 'ANEL' 'ECOL' 'OV'\n",
      " 'TRLT' 'OLRN' 'CMC' 'PREU' 'FT' 'TA' 'OO' 'WH' 'CIVI' 'TRTL' 'HW' 'CYCL'\n",
      " 'TKTR' 'CABC' 'SH B' 'CABR' 'AW' 'QAZC' '2DHA' 'CREW' 'SCOU' 'EXTS'\n",
      " 'EXCU' 'FODO' 'CT' 'C4' '2P' 'L' 'LB' 'QUA' 'R/RD' 'CNN' 'ELAN' 'NXM'\n",
      " 'OVN' 'CNI' 'IMOR' 'CAM' 'PO' 'RNN' 'PRCH' 'ML' 'AMB' 'ANO' 'CMN' 'CAD'\n",
      " 'STRI' 'SEM' 'VW' 'CL' 'AS' 'FRTV' 'COOP' 'ANOR' 'LETI' 'CXNE' 'UTI'\n",
      " 'TLF' 'HD' 'OMT' 'PETE' 'CAUP' 'CTB' 'BK' 'MTC' 'HT' 'GB' 'MTRC' 'ANU'\n",
      " 'HINO' 'WHIT' 'P' 'OTN' 'APO' 'TEM' 'OIII' 'GM' 'YTUC' 'SWV' 'CAIR' 'VT'\n",
      " 'OEN' '2T' 'SS' 'REEF' 'DS' '4DSW' 'SUBR' 'OPER' 'W/SR' '5DHT' 'DSD' '4C'\n",
      " 'SUB' 'Truc' 'WSR']\n",
      "SUBN    2567426\n",
      "4DSD    1628042\n",
      "VAN      470075\n",
      "PICK     173898\n",
      "DELV     138084\n",
      "         ...   \n",
      "E             1\n",
      "EBIK          1\n",
      "CE            1\n",
      "PILO          1\n",
      "WSR           1\n",
      "Name: Vehicle Body Type, Length: 516, dtype: int64\n"
     ]
    }
   ],
   "source": [
    "print(df['Vehicle Body Type'].unique())\n",
    "# choose body type that most reflect general population\n",
    "print(df['Vehicle Body Type'].value_counts())\n"
   ]
  },
  {
   "cell_type": "code",
   "execution_count": 131,
   "id": "bce73dbd",
   "metadata": {},
   "outputs": [
    {
     "name": "stdout",
     "output_type": "stream",
     "text": [
      "['TOYOT' 'JEEP' 'HYUND' ... 'RUGB' 'COU' 'MAGIR'] 1567\n"
     ]
    }
   ],
   "source": [
    "print(df['Vehicle Make'].unique(), len(df['Vehicle Make'].unique()))\n",
    "# too many vehicle makers\n",
    "# choose relevant vehicle makers that reflects general population"
   ]
  },
  {
   "cell_type": "code",
   "execution_count": 132,
   "id": "9ee939fb",
   "metadata": {},
   "outputs": [
    {
     "name": "stdout",
     "output_type": "stream",
     "text": [
      "[ 10   1   5   6  45 100 101 122 123 120  84  75  42  46  44  41  52  40\n",
      " 113  76 112  72  69 103 110 105  62  14  25 108  63  67  60  23 109 106\n",
      "  48  47  43  90   4   9  66  32  83   0 114  49  78  64  13 115  94  18\n",
      " 111  88  73  30  68  61  24  34  50  99  70 107 121  17  28 119  19  20\n",
      "  33  71  77 102  79   7  81  39  80 104  26  56 170  74  11  65  21 116\n",
      " 117   8 168  38  29 200  37  22 136  85  35  51 144 272  53 163  36 805\n",
      " 174  87 161 164 118   3  15  89 166 127 803 203  57  91 808   2  96  95\n",
      " 160  93  16  97  54  31 171  82 933  58] 136\n"
     ]
    }
   ],
   "source": [
    "print(df['Violation Precinct'].unique(), len(df['Violation Precinct'].unique()))\n",
    "# prob nothing to be done here"
   ]
  },
  {
   "cell_type": "code",
   "execution_count": 133,
   "id": "05acae06",
   "metadata": {},
   "outputs": [
    {
     "name": "stdout",
     "output_type": "stream",
     "text": [
      "['1037A' '1045A' '1116A' ... '0012P' '01 6A' '6020P'] 1545\n",
      "(5538714, 9)\n",
      "done\n",
      "Morning      2448237\n",
      "Afternoon    1837223\n",
      "Evening       645292\n",
      "Night         607962\n",
      "Name: Violation Day, dtype: int64\n"
     ]
    }
   ],
   "source": [
    "print(df['Violation Time'].unique(), len(df['Violation Time'].unique()))\n",
    "\n",
    "# remove rows of string length violation time less than 5\n",
    "df = df[df['Violation Time'].apply(lambda x: len(str(x)) == 5)]\n",
    "print(df.shape)\n",
    "# too many time, standardize time\n",
    "\n",
    "# Parts of the Day\n",
    "\n",
    "# Morning     5 am to 12 pm (noon)\n",
    "\n",
    "# Afternoon     12 pm to 5 pm\n",
    "\n",
    "# Evening     5 pm to 9 pm\n",
    "\n",
    "# Night         9 pm to 4 am\n",
    "\n",
    "# create a new column \"Violation Day\" iterate through each row and \n",
    "violation_time = df[\"Violation Time\"]\n",
    "\n",
    "violation_day = []\n",
    "start_morning = 5\n",
    "end_morning = 12\n",
    "\n",
    "start_noon = 12\n",
    "end_noon = 5 + 12\n",
    "\n",
    "start_evening = 5 + 12\n",
    "end_evening = 9 + 12\n",
    "\n",
    "\n",
    "for i, time in enumerate(violation_time):\n",
    "    hour = int(time[0:2])\n",
    "    # edge case\n",
    "    if(hour == 12 and time[4] == 'A'):\n",
    "        hour = 0\n",
    "    elif(hour != 12 and time[4] == 'P'):\n",
    "        hour = hour + 12\n",
    "\n",
    "    if hour >= start_morning and hour < end_morning:\n",
    "        violation_day.append(\"Morning\")\n",
    "    elif hour >= start_noon and hour < end_noon:\n",
    "        violation_day.append(\"Afternoon\")\n",
    "    elif hour >= start_evening and hour < end_evening:\n",
    "        violation_day.append(\"Evening\")\n",
    "    else:\n",
    "        violation_day.append(\"Night\")\n",
    "        \n",
    "print(\"done\")    \n",
    "df[\"Violation Day\"] = violation_day\n",
    "#drop violation column, no longer need it\n",
    "df = df.drop(columns=\"Violation Time\")\n",
    "print(df[\"Violation Day\"].value_counts())"
   ]
  },
  {
   "cell_type": "code",
   "execution_count": 134,
   "id": "5577d886",
   "metadata": {},
   "outputs": [
    {
     "name": "stdout",
     "output_type": "stream",
     "text": [
      "['NY' 'BX' 'Q' 'R' 'K' 'MS' 'BK' 'QN' 'MN' 'Kings' 'Qns' 'Bronx' 'Rich'\n",
      " 'ST' 'QNS' 'ABX'] 16\n",
      "['NY' 'BX' 'QNS' 'R' 'K' 'MS' 'BK' 'MN' 'ST' 'ABX']\n",
      "QNS    1509564\n",
      "NY     1316070\n",
      "K       782040\n",
      "BX      754488\n",
      "BK      744460\n",
      "MN      227268\n",
      "ST      150381\n",
      "R        54441\n",
      "MS           1\n",
      "ABX          1\n",
      "Name: Violation County, dtype: int64\n"
     ]
    }
   ],
   "source": [
    "print(df['Violation County'].unique(), len(df['Violation County'].unique()))\n",
    "# violation county has same county but different abbreivations\n",
    "\n",
    "county_mapping = {'NY': 'NY','BX':'BX', 'Q':'QNS', 'R':'R', 'K':'K', 'MS': 'MS', 'BK': 'BK',\n",
    "           'QN': 'QNS', 'MN': 'MN', 'Kings': 'K',\n",
    "           'Qns': 'QNS', 'Bronx': 'BX', 'Rich': 'R', 'ST':'ST', 'QNS':'QNS', 'ABX': 'ABX'}\n",
    "\n",
    "df['Violation County'] = df['Violation County'].map(county_mapping)\n",
    "print(df['Violation County'].unique())\n",
    "print(df['Violation County'].value_counts())\n",
    "#drop 'MS' and 'ABX'\n",
    "df = df[df['Violation County'] != 'MS']\n",
    "df = df[df['Violation County'] != 'ABX']\n",
    "\n"
   ]
  },
  {
   "cell_type": "code",
   "execution_count": 135,
   "id": "0e7869e2",
   "metadata": {},
   "outputs": [
    {
     "name": "stdout",
     "output_type": "stream",
     "text": [
      "QNS    1509564\n",
      "NY     1316070\n",
      "K       782040\n",
      "BX      754488\n",
      "BK      744460\n",
      "MN      227268\n",
      "ST      150381\n",
      "R        54441\n",
      "Name: Violation County, dtype: int64\n",
      "['BLK' 'GRAY' 'BLUE' 'WHITE' 'RED' 'GY' 'WHT' 'BLACK' 'GL' 'SILVE' 'GREY'\n",
      " 'BL' 'TAN' 'WH' 'BLU' 'BRO' 'GRY' 'ORANG' 'PURPL' 'SLV' 'SIL' 'WT' 'ORG'\n",
      " 'SUILV' 'BEIGE' 'BRN' 'GREEN' 'BK' 'GR' 'GOLD' 'W' 'NAVY' 'SILV' 'R' 'G'\n",
      " 'WHI' 'BUR' 'BROW' 'B' 'BROWN' 'SI' 'RD' 'BKL' 'MAROO' 'SL' 'YLLW' 'GRV'\n",
      " 'GRN' 'GLD' 'SV' 'SLVR' 'BURG' 'SW' 'TN' 'WHTE' 'BN' 'GRAN' 'BR' 'WHIT'\n",
      " 'PINK' 'GARY' 'GN' 'BRW' 'M' 'BEGE' 'Gray' 'YELLO' 'PURP' 'BLCK' 'WTE'\n",
      " 'OR' 'T' 'BLA' 'SILVR' 'BW' 'BLAAC' 'BLACJ' 'MRN' 'PK' 'YEL' '.' 'SN'\n",
      " 'YE' 'BKUE' 'RM' 'MARON' 'GKD' 'BG' 'LTGY' 'YELL' 'BLC' 'OLIV' 'WI'\n",
      " 'BLAC' 'GRA' 'BCK' 'TEAL' 'BLAK' 'GLN' 'BWN' 'GRE' 'SIVR' 'BIGE' 'BURGU'\n",
      " 'ON' 'GD' 'MN' 'PR' 'BRWN' 'PW' 'BURGA' 'BLE' 'NLK' 'SLIVE' 'SILVA' 'MR'\n",
      " 'GREN' 'WHE' 'DK/GY' 'BLGY' 'LT/GR' 'DKRD' 'YW' 'DKGY' 'LTBK' 'LT/GY'\n",
      " 'BL/BK' 'DK/BL' 'WHTN' 'DK/PR' 'DKGR' 'WHBR' 'DKBL' 'WH/BK' 'NOCL'\n",
      " 'LT/BL' 'DKTN' 'LTBL' 'WHGL' 'BKGY' 'LTGR' 'BKWH' 'GLGY' 'WH/BL' 'GYGR'\n",
      " 'WHGY' 'SLK' 'WHBL' 'GYBK' 'RDBK' 'BKBL' 'Black' 'BKGL' 'WHBK' 'LTBR'\n",
      " 'DKMR' 'GYBL' 'GYTN' 'GYGY' 'UNKNO' 'LTGL' 'LTTN' 'YWBL' 'OTHER' 'RDGY'\n",
      " 'BLBK' 'DKBK' 'Silve' 'GRTN' 'Unkno' 'BGE' 'WHGR' 'BRBL' 'BLTN' 'LBL'\n",
      " 'DKBR' 'GYYA' 'TNGR' 'GLGR' 'GYGL' 'MRBR' 'DBL' 'BKGR' 'DARK' 'TNGY'\n",
      " 'BKBR' 'White' 'TNRD' 'ALUMI' 'RDBL' 'MAR' 'BKRD' 'GRGY' 'BKTN' 'BLGR'\n",
      " 'RDGR' 'CHROM' 'GYRD' 'Red' 'TAUPE' 'GRRD' 'GYOR' 'BLBL' 'BKX' 'WHM'\n",
      " 'ONG' 'DKPR' 'LIGHT' 'BRZ' '`' 'GRBL' 'ORGL' 'BRGR' 'WHKMK' 'TNPR' 'Blue'\n",
      " 'GLBK' 'MRGY' 'ORRD' 'Gold' 'BRGY' 'BLWH' 'WHRD' 'GYBR' 'ORBK' 'MULTI'\n",
      " 'CRM' 'RDMR' 'BL.' 'PRWH' 'DKOR' 'BKI' 'RDTN' 'MRTN' 'COM' 'ORGY' 'GYQW'\n",
      " 'TNWH' 'TURQU' 'PLE' 'WH1' 'BRGL' 'Maroo' 'RDBR' 'BRCDF' 'BKBK' 'TNBL'\n",
      " 'PKGL' 'Tan' 'BKL.[' 'LTG' 'GYC' 'BLBR' 'GYMR' 'SLVER' 'DGR' 'GY`' 'RDV.'\n",
      " 'BLRD' 'MRRD' 'GRGL' 'BRONZ' 'AME' 'TNGL' 'NOC' 'DK/' 'DKB' 'LT/' 'BKG'\n",
      " 'DKG' 'BKW' 'LAVEN' 'WHB' 'GY/' 'GYB' 'LTB' 'BLG' 'LTT' 'NO' 'WH/' 'GRT'\n",
      " 'DKR' 'WHG' 'BL/' 'RDG' 'BK/' 'LTP' 'GYT' 'WHO' 'DKP' 'TNG' 'BLT' 'BLB'\n",
      " 'RDW' 'DKM' 'GRB' 'GY G' 'ORA' 'ORGN' 'HYUND' 'YELLW' 'YLW' 'BIEGE' 'TRQ'\n",
      " 'PUR' 'BUE' 'PIBK' 'U' 'PNK' 'PINE' 'YLL' '. ..' 'TAM' 'GREE' 'E' 'HREEN'\n",
      " 'Y' 'MIX' 'WHIE' 'OM' 'BACK' ' .' 'BIK' 'B LAC' 'WHIYE' 'HU' 'SIC' 'GOL'\n",
      " 'BKACK' 'SVE' 'WHU' 'MC' 'RO' 'YU' 'LT/BR' 'PRPLE' 'DK/RD' 'YL' 'PRL'\n",
      " 'PRPL' 'NO CL' 'ORWH' 'BL/WH' 'RD/GY' 'BUG' 'DK/BK' 'DKGL' 'WHTIE'\n",
      " 'GRTEY' 'BGI' 'GEY' 'GT' 'GY/BK' 'S' 'REDBL' 'OR/WH' 'UNK' 'WHOR' 'DK/GR'\n",
      " 'LAV' 'GYWH' 'WH/OR' 'BRRD' 'YWBK' 'LGR' 'CPR' 'WH/PI' 'BKMR' 'BLUE,'\n",
      " 'PEWTE' 'RDWH' 'PRGY' 'RDRD' '?:{' 'YWRD' 'GLRD' 'YWWH' 'TNBR' 'WHPK'\n",
      " 'COPPE' 'RDOR' 'MUL' 'GRBK' 'WHI-T' 'WHWH' 'DKWH' 'BRTN' 'WHPR' 'XXX'\n",
      " 'BKH' 'BLKTA' 'GYBN' 'WH+' 'LTWH' 'BRU76' 'I' 'GLBR' 'CREAM' 'YWGY'\n",
      " 'GRYGR' ' OIU' 'Brown' 'GRWH' 'SIL/B' 'TPE' ' YW' 'Dark' 'MRBL' 'GRGR'\n",
      " 'GYD' 'REDRE' 'WHYW' 'GG' 'WHN' 'MROR' 'BKPR' 'BK+' 'LGT' 'TEA' 'BLYW'\n",
      " 'BLPR' 'RDGL' 'PRRD' 'BKYW' 'BL6' 'Q' 'GYHNU' 'LTYW' 'BLMR' 'YWGR' 'PKWH'\n",
      " 'ORBL' 'GYX' 'Other' 'GRPR' 'WHMR' 'BK,' 'BKOR' 'GRY/B' 'BLW' 'RD/' 'GRW'\n",
      " 'GR/' 'TN/' 'RDT' 'GRG' 'BRT' 'Green' 'GYG' 'RUST' '.  K' 'WHHIT' 'NVY B'\n",
      " 'GRET' 'GRL' 'BALCK' 'STI' 'SIV' '. -' 'QUEEN' 'WJ' 'SIK' 'BLV' 'PIK'\n",
      " 'BURUN' 'WHK' 'WE' 'ED' 'SILVV' 'SVR' 'LT' 'HRY' ' ..K' 'COL' 'LT/BK'\n",
      " 'BK/GY' 'GY/TN' 'NC' 'LT/TN' 'GYPR' 'WH/GL' 'BLGL' 'GYYW' 'NOCLB' 'BK.'\n",
      " 'TNBK' 'ORPR' 'GY42-' \"BK0-'\" 'BKNO' 'LTMR' 'BRMR' '  BLK' 'AMETH' 'OO'\n",
      " 'WH.0' 'GLB' 'BU' 'BLACL' 'SLI' 'RL' 'BURGD' 'HULT' 'GRYSL' 'BURGN' 'C'\n",
      " 'SILE' '-' 'FRAY' '..' 'OG' 'WTH' 'WHJT' 'MA' 'BRIGE' 'WHY' 'ORNG' 'ORN'\n",
      " 'FRY' 'GAY' 'PRP' 'BL BK' 'GNE' 'BJ' 'HTAY' 'BLUEB' 'SIVER' 'BORG'\n",
      " 'GGRAY' 'N' 'BX' 'BL K' 'BLY' 'SLR' 'GTY' 'BK/BL' 'BEKE' 'SILER' 'WH/TN'\n",
      " 'WHITW' 'BBLK' ' A C' 'BLUR' 'PR/WH' 'BL/GY' 'DK/BR' 'WH/RD' 'GY/BR'\n",
      " 'GY/GL' 'TN/BR' 'D' 'WHGRN' 'RD,.;' 'GY.' 'GLOR' 'GYJUU' '+++++' 'LTRD'\n",
      " '//' 'NOCLR' 'Light' 'GLTN' 'MRGR' 'O' 'A' 'GY1' 'BLUGR' '0' 'WH-'\n",
      " 'BK/TN' 'YW0' 'BRBK' 'WH`' 'PRBK' 'BKM' 'BLOR' 'MRWH' 'GYW' 'TNMR'\n",
      " 'RUNNE' 'WHV' 'Yello' 'TAN/B' 'ORGR' 'GRQWW' 'GYII' 'LTPK' 'GYK' 'GYM'\n",
      " 'GY245' 'BK333' 'TNTN' 'GLWH' 'X' 'TNOR' 'BKPK' 'GYA' 'AZ' 'GY N' 'BRPR'\n",
      " 'NOCLG' 'BKJ' 'PKPR' 'MARO' 'WHGY8' 'LTPR' 'BKT' 'WITH' '.N.D' 'BURGY'\n",
      " 'DARKB' 'BERG' 'BY' 'GRAP' 'B L' 'BUS' 'WHTW' 'ORAN' 'SVL' 'BL/GR' 'YWTN'\n",
      " 'BKC' 'TN,1;' 'GLBL' 'GY3' 'RDPR' 'Bronz' 'TNYW' 'PRW' '-M.' 'BEIG'\n",
      " 'PARK' 'YELOW' 'SLIV' 'WORKH' 'BUY' 'GRTAY' 'GRU' 'ERD' 'VAN' 'TA' 'TRY'\n",
      " 'B K' 'BOLD' 'QHITE' 'WTC' 'RDE' 'OTH' 'GR/PR' 'BL/GL' 'GY/BL' 'RD/OR'\n",
      " 'Purpl' 'GRBR' 'PKGY' 'MRBK' 'D.GRE' 'RDNL' 'ORTN' 'WH3' 'GROR' 'GO'\n",
      " 'BLGY0' 'GYXV' 'BLUN' 'WH-+/' 'GR0' 'PRYW' 'WH/GY' 'WH I' 'MRG' 'MO'\n",
      " 'S ILV' 'GRAG' 'DILVE' 'NLUE' 'MULT' 'SLVRE' 'GGREY' 'PL' 'DIL' 'KX' 'BE'\n",
      " 'PUPLE' '/BLK' 'WHITR' 'BOMBY' 'GERY' 'TN/GR' 'MR/TN' 'BK1' 'DKPK' 'WH,'\n",
      " 'BR0' 'RD`' 'BLP' 'TRED' 'CHAMP' 'TRLR' 'RE' 'SILVB' 'BERGE' 'NLACK'\n",
      " 'OAGE' 'OT' 'AW' 'P' '--N' 'GW' 'WHUIT' 'MV' '.UN' 'BLD' 'GE' 'GRAYY'\n",
      " 'FREIG' 'PINKT' 'ISUZU' 'SILU' 'DARKG' 'BRG' '...' 'GTAY' 'BLKWH' 'BEI'\n",
      " 'GRI' 'BEG' 'WTI' 'NAVI' 'WL' 'SLU' 'BGDY' 'GHY' 'CHY' 'PIN' 'GRNGY'\n",
      " 'DKYW' 'YWOR' 'DRK' 'BKZ' 'CAM' 'CC' 'GY][]' 'BGE/G' 'BLF' 'RDGUI' 'BK3'\n",
      " 'BK0'] 748\n"
     ]
    }
   ],
   "source": [
    "print(df['Violation County'].value_counts())\n",
    "print(df['Vehicle Color'].unique(), len(df['Vehicle Color'].unique()))\n",
    "# on closer inspection\n",
    "# color abbreivation is not standardized\n",
    "# so we see same colors with different abbreivation\n",
    "# transform this"
   ]
  },
  {
   "cell_type": "code",
   "execution_count": 136,
   "id": "c3ec637a",
   "metadata": {},
   "outputs": [
    {
     "name": "stdout",
     "output_type": "stream",
     "text": [
      "GY       1202022\n",
      "WH       1096921\n",
      "BK       1054257\n",
      "BL        403809\n",
      "WHITE     357639\n",
      "          ...   \n",
      "WHM            1\n",
      "GLOR           1\n",
      "GYJUU          1\n",
      "+++++          1\n",
      "BK0            1\n",
      "Name: Vehicle Color, Length: 748, dtype: int64\n"
     ]
    }
   ],
   "source": [
    "# transformation to be done\n",
    "# select data that reflects general population\n",
    "# this includes\n",
    "# plate type\n",
    "# violation type\n",
    "# vehicle maker\n",
    "# color -> choose color that we could easily translate\n",
    "# \n",
    "print(df['Vehicle Color'].value_counts())"
   ]
  },
  {
   "cell_type": "code",
   "execution_count": 137,
   "id": "eceda769",
   "metadata": {},
   "outputs": [],
   "source": [
    "# write a funciton to get the counts + quartile + iqr\n",
    "# find lower threshold remove it\n",
    "# apply function on each of the data\n",
    "# analyze data\n"
   ]
  }
 ],
 "metadata": {
  "kernelspec": {
   "display_name": "Python 3 (ipykernel)",
   "language": "python",
   "name": "python3"
  },
  "language_info": {
   "codemirror_mode": {
    "name": "ipython",
    "version": 3
   },
   "file_extension": ".py",
   "mimetype": "text/x-python",
   "name": "python",
   "nbconvert_exporter": "python",
   "pygments_lexer": "ipython3",
   "version": "3.9.7"
  }
 },
 "nbformat": 4,
 "nbformat_minor": 5
}
